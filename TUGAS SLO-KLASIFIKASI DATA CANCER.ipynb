{
  "nbformat": 4,
  "nbformat_minor": 0,
  "metadata": {
    "kernelspec": {
      "display_name": "Python 3 (system-wide)",
      "language": "python",
      "metadata": {
        "cocalc": {
          "description": "Python 3 programming language",
          "priority": 100,
          "url": "https://www.python.org/"
        }
      },
      "name": "python3"
    },
    "language_info": {
      "codemirror_mode": {
        "name": "ipython",
        "version": 3
      },
      "file_extension": ".py",
      "mimetype": "text/x-python",
      "name": "python",
      "nbconvert_exporter": "python",
      "pygments_lexer": "ipython3",
      "version": "3.6.8"
    },
    "colab": {
      "name": "classify_iris_ANN.ipynb",
      "provenance": [],
      "collapsed_sections": []
    }
  },
  "cells": [
    {
      "cell_type": "code",
      "metadata": {
        "colab": {
          "base_uri": "https://localhost:8080/"
        },
        "id": "PDB9UOyp8TVw",
        "outputId": "d5fbdd5c-22eb-41f6-c6c5-24da7eb15561"
      },
      "source": [
        "from google.colab import drive\n",
        "drive.mount('/content/drive')"
      ],
      "execution_count": 1,
      "outputs": [
        {
          "output_type": "stream",
          "text": [
            "Mounted at /content/drive\n"
          ],
          "name": "stdout"
        }
      ]
    },
    {
      "cell_type": "code",
      "metadata": {
        "colab": {
          "base_uri": "https://localhost:8080/"
        },
        "id": "A_uZVJpWDO0u",
        "outputId": "77ac256f-0979-4826-f492-d3f86e49ebae"
      },
      "source": [
        "cd /content/drive/MyDrive/Colab Notebooks "
      ],
      "execution_count": 6,
      "outputs": [
        {
          "output_type": "stream",
          "text": [
            "/content/drive/MyDrive/Colab Notebooks\n"
          ],
          "name": "stdout"
        }
      ]
    },
    {
      "cell_type": "code",
      "metadata": {
        "id": "1IkPXCwDgRJC"
      },
      "source": [
        "# import the necessary packages\n",
        "from sklearn.neighbors import KNeighborsClassifier\n",
        "from sklearn.naive_bayes import GaussianNB\n",
        "from sklearn.linear_model import LogisticRegression\n",
        "from sklearn.svm import SVC\n",
        "from sklearn.tree import DecisionTreeClassifier\n",
        "from sklearn.ensemble import RandomForestClassifier\n",
        "from sklearn.neural_network import MLPClassifier\n",
        "from sklearn.model_selection import train_test_split\n",
        "from sklearn.metrics import classification_report\n",
        "# from sklearn.datasets import load_iris"
      ],
      "execution_count": 7,
      "outputs": []
    },
    {
      "cell_type": "code",
      "metadata": {
        "id": "3tAnSVBc4lor"
      },
      "source": [
        "# from sklearn.datasets import load_iris\n",
        "import numpy as np\n",
        "import pandas as pd\n",
        "import matplotlib.pyplot as plt"
      ],
      "execution_count": 8,
      "outputs": []
    },
    {
      "cell_type": "code",
      "metadata": {
        "colab": {
          "base_uri": "https://localhost:8080/",
          "height": 241
        },
        "id": "ZLsTWZHS4n3I",
        "outputId": "f2fb9536-6cca-4a29-fc9a-17c5fe443f63"
      },
      "source": [
        "df = pd.read_csv('data_cancer.csv')\n",
        "# df = pd.read_excel(\"xxx.xls\", sheet_name=\"sheet 1\")\n",
        "df.head()"
      ],
      "execution_count": 9,
      "outputs": [
        {
          "output_type": "execute_result",
          "data": {
            "text/html": [
              "<div>\n",
              "<style scoped>\n",
              "    .dataframe tbody tr th:only-of-type {\n",
              "        vertical-align: middle;\n",
              "    }\n",
              "\n",
              "    .dataframe tbody tr th {\n",
              "        vertical-align: top;\n",
              "    }\n",
              "\n",
              "    .dataframe thead th {\n",
              "        text-align: right;\n",
              "    }\n",
              "</style>\n",
              "<table border=\"1\" class=\"dataframe\">\n",
              "  <thead>\n",
              "    <tr style=\"text-align: right;\">\n",
              "      <th></th>\n",
              "      <th>id</th>\n",
              "      <th>diagnosis</th>\n",
              "      <th>radius_mean</th>\n",
              "      <th>texture_mean</th>\n",
              "      <th>perimeter_mean</th>\n",
              "      <th>area_mean</th>\n",
              "      <th>smoothness_mean</th>\n",
              "      <th>compactness_mean</th>\n",
              "      <th>concavity_mean</th>\n",
              "      <th>concave points_mean</th>\n",
              "      <th>symmetry_mean</th>\n",
              "      <th>fractal_dimension_mean</th>\n",
              "      <th>radius_se</th>\n",
              "      <th>texture_se</th>\n",
              "      <th>perimeter_se</th>\n",
              "      <th>area_se</th>\n",
              "      <th>smoothness_se</th>\n",
              "      <th>compactness_se</th>\n",
              "      <th>concavity_se</th>\n",
              "      <th>concave points_se</th>\n",
              "      <th>symmetry_se</th>\n",
              "      <th>fractal_dimension_se</th>\n",
              "      <th>radius_worst</th>\n",
              "      <th>texture_worst</th>\n",
              "      <th>perimeter_worst</th>\n",
              "      <th>area_worst</th>\n",
              "      <th>smoothness_worst</th>\n",
              "      <th>compactness_worst</th>\n",
              "      <th>concavity_worst</th>\n",
              "      <th>concave points_worst</th>\n",
              "      <th>symmetry_worst</th>\n",
              "      <th>fractal_dimension_worst</th>\n",
              "      <th>Unnamed: 32</th>\n",
              "    </tr>\n",
              "  </thead>\n",
              "  <tbody>\n",
              "    <tr>\n",
              "      <th>0</th>\n",
              "      <td>842302</td>\n",
              "      <td>M</td>\n",
              "      <td>17.99</td>\n",
              "      <td>10.38</td>\n",
              "      <td>122.80</td>\n",
              "      <td>1001.0</td>\n",
              "      <td>0.11840</td>\n",
              "      <td>0.27760</td>\n",
              "      <td>0.3001</td>\n",
              "      <td>0.14710</td>\n",
              "      <td>0.2419</td>\n",
              "      <td>0.07871</td>\n",
              "      <td>1.0950</td>\n",
              "      <td>0.9053</td>\n",
              "      <td>8.589</td>\n",
              "      <td>153.40</td>\n",
              "      <td>0.006399</td>\n",
              "      <td>0.04904</td>\n",
              "      <td>0.05373</td>\n",
              "      <td>0.01587</td>\n",
              "      <td>0.03003</td>\n",
              "      <td>0.006193</td>\n",
              "      <td>25.38</td>\n",
              "      <td>17.33</td>\n",
              "      <td>184.60</td>\n",
              "      <td>2019.0</td>\n",
              "      <td>0.1622</td>\n",
              "      <td>0.6656</td>\n",
              "      <td>0.7119</td>\n",
              "      <td>0.2654</td>\n",
              "      <td>0.4601</td>\n",
              "      <td>0.11890</td>\n",
              "      <td>NaN</td>\n",
              "    </tr>\n",
              "    <tr>\n",
              "      <th>1</th>\n",
              "      <td>842517</td>\n",
              "      <td>M</td>\n",
              "      <td>20.57</td>\n",
              "      <td>17.77</td>\n",
              "      <td>132.90</td>\n",
              "      <td>1326.0</td>\n",
              "      <td>0.08474</td>\n",
              "      <td>0.07864</td>\n",
              "      <td>0.0869</td>\n",
              "      <td>0.07017</td>\n",
              "      <td>0.1812</td>\n",
              "      <td>0.05667</td>\n",
              "      <td>0.5435</td>\n",
              "      <td>0.7339</td>\n",
              "      <td>3.398</td>\n",
              "      <td>74.08</td>\n",
              "      <td>0.005225</td>\n",
              "      <td>0.01308</td>\n",
              "      <td>0.01860</td>\n",
              "      <td>0.01340</td>\n",
              "      <td>0.01389</td>\n",
              "      <td>0.003532</td>\n",
              "      <td>24.99</td>\n",
              "      <td>23.41</td>\n",
              "      <td>158.80</td>\n",
              "      <td>1956.0</td>\n",
              "      <td>0.1238</td>\n",
              "      <td>0.1866</td>\n",
              "      <td>0.2416</td>\n",
              "      <td>0.1860</td>\n",
              "      <td>0.2750</td>\n",
              "      <td>0.08902</td>\n",
              "      <td>NaN</td>\n",
              "    </tr>\n",
              "    <tr>\n",
              "      <th>2</th>\n",
              "      <td>84300903</td>\n",
              "      <td>M</td>\n",
              "      <td>19.69</td>\n",
              "      <td>21.25</td>\n",
              "      <td>130.00</td>\n",
              "      <td>1203.0</td>\n",
              "      <td>0.10960</td>\n",
              "      <td>0.15990</td>\n",
              "      <td>0.1974</td>\n",
              "      <td>0.12790</td>\n",
              "      <td>0.2069</td>\n",
              "      <td>0.05999</td>\n",
              "      <td>0.7456</td>\n",
              "      <td>0.7869</td>\n",
              "      <td>4.585</td>\n",
              "      <td>94.03</td>\n",
              "      <td>0.006150</td>\n",
              "      <td>0.04006</td>\n",
              "      <td>0.03832</td>\n",
              "      <td>0.02058</td>\n",
              "      <td>0.02250</td>\n",
              "      <td>0.004571</td>\n",
              "      <td>23.57</td>\n",
              "      <td>25.53</td>\n",
              "      <td>152.50</td>\n",
              "      <td>1709.0</td>\n",
              "      <td>0.1444</td>\n",
              "      <td>0.4245</td>\n",
              "      <td>0.4504</td>\n",
              "      <td>0.2430</td>\n",
              "      <td>0.3613</td>\n",
              "      <td>0.08758</td>\n",
              "      <td>NaN</td>\n",
              "    </tr>\n",
              "    <tr>\n",
              "      <th>3</th>\n",
              "      <td>84348301</td>\n",
              "      <td>M</td>\n",
              "      <td>11.42</td>\n",
              "      <td>20.38</td>\n",
              "      <td>77.58</td>\n",
              "      <td>386.1</td>\n",
              "      <td>0.14250</td>\n",
              "      <td>0.28390</td>\n",
              "      <td>0.2414</td>\n",
              "      <td>0.10520</td>\n",
              "      <td>0.2597</td>\n",
              "      <td>0.09744</td>\n",
              "      <td>0.4956</td>\n",
              "      <td>1.1560</td>\n",
              "      <td>3.445</td>\n",
              "      <td>27.23</td>\n",
              "      <td>0.009110</td>\n",
              "      <td>0.07458</td>\n",
              "      <td>0.05661</td>\n",
              "      <td>0.01867</td>\n",
              "      <td>0.05963</td>\n",
              "      <td>0.009208</td>\n",
              "      <td>14.91</td>\n",
              "      <td>26.50</td>\n",
              "      <td>98.87</td>\n",
              "      <td>567.7</td>\n",
              "      <td>0.2098</td>\n",
              "      <td>0.8663</td>\n",
              "      <td>0.6869</td>\n",
              "      <td>0.2575</td>\n",
              "      <td>0.6638</td>\n",
              "      <td>0.17300</td>\n",
              "      <td>NaN</td>\n",
              "    </tr>\n",
              "    <tr>\n",
              "      <th>4</th>\n",
              "      <td>84358402</td>\n",
              "      <td>M</td>\n",
              "      <td>20.29</td>\n",
              "      <td>14.34</td>\n",
              "      <td>135.10</td>\n",
              "      <td>1297.0</td>\n",
              "      <td>0.10030</td>\n",
              "      <td>0.13280</td>\n",
              "      <td>0.1980</td>\n",
              "      <td>0.10430</td>\n",
              "      <td>0.1809</td>\n",
              "      <td>0.05883</td>\n",
              "      <td>0.7572</td>\n",
              "      <td>0.7813</td>\n",
              "      <td>5.438</td>\n",
              "      <td>94.44</td>\n",
              "      <td>0.011490</td>\n",
              "      <td>0.02461</td>\n",
              "      <td>0.05688</td>\n",
              "      <td>0.01885</td>\n",
              "      <td>0.01756</td>\n",
              "      <td>0.005115</td>\n",
              "      <td>22.54</td>\n",
              "      <td>16.67</td>\n",
              "      <td>152.20</td>\n",
              "      <td>1575.0</td>\n",
              "      <td>0.1374</td>\n",
              "      <td>0.2050</td>\n",
              "      <td>0.4000</td>\n",
              "      <td>0.1625</td>\n",
              "      <td>0.2364</td>\n",
              "      <td>0.07678</td>\n",
              "      <td>NaN</td>\n",
              "    </tr>\n",
              "  </tbody>\n",
              "</table>\n",
              "</div>"
            ],
            "text/plain": [
              "         id diagnosis  ...  fractal_dimension_worst  Unnamed: 32\n",
              "0    842302         M  ...                  0.11890          NaN\n",
              "1    842517         M  ...                  0.08902          NaN\n",
              "2  84300903         M  ...                  0.08758          NaN\n",
              "3  84348301         M  ...                  0.17300          NaN\n",
              "4  84358402         M  ...                  0.07678          NaN\n",
              "\n",
              "[5 rows x 33 columns]"
            ]
          },
          "metadata": {
            "tags": []
          },
          "execution_count": 9
        }
      ]
    },
    {
      "cell_type": "code",
      "metadata": {
        "colab": {
          "base_uri": "https://localhost:8080/"
        },
        "id": "_EvzBkNa6wV5",
        "outputId": "89dfb29d-4fe8-44e2-e4fb-30e8ec23ec23"
      },
      "source": [
        "test_X = df.iloc[0:10,[2,3,4,5]].values\n",
        "print(test_X.shape)"
      ],
      "execution_count": 33,
      "outputs": [
        {
          "output_type": "stream",
          "text": [
            "(10, 4)\n"
          ],
          "name": "stdout"
        }
      ]
    },
    {
      "cell_type": "code",
      "metadata": {
        "id": "vwUdBnpI4fMX"
      },
      "source": [
        "X = df.iloc[:,[2,3,4,5]].values\n",
        "Y = df.iloc[:,[1]].values"
      ],
      "execution_count": 34,
      "outputs": []
    },
    {
      "cell_type": "code",
      "metadata": {
        "id": "KwM9k-xaER1p"
      },
      "source": [
        "print(Y)"
      ],
      "execution_count": null,
      "outputs": []
    },
    {
      "cell_type": "code",
      "metadata": {
        "colab": {
          "base_uri": "https://localhost:8080/"
        },
        "id": "pIpKU3x85Z5y",
        "outputId": "b3f12042-b1c3-462b-8884-6dadcb3c80a2"
      },
      "source": [
        "target_names = df['diagnosis'].unique()\n",
        "print(target_names)"
      ],
      "execution_count": 36,
      "outputs": [
        {
          "output_type": "stream",
          "text": [
            "['M' 'B']\n"
          ],
          "name": "stdout"
        }
      ]
    },
    {
      "cell_type": "code",
      "metadata": {
        "colab": {
          "base_uri": "https://localhost:8080/"
        },
        "id": "Y_xTqq4V7q7J",
        "outputId": "631c0482-5b2e-4537-ddea-0629bde5caed"
      },
      "source": [
        "print(X.shape)\n",
        "print(Y.shape)"
      ],
      "execution_count": 37,
      "outputs": [
        {
          "output_type": "stream",
          "text": [
            "(569, 4)\n",
            "(569, 1)\n"
          ],
          "name": "stdout"
        }
      ]
    },
    {
      "cell_type": "code",
      "metadata": {
        "colab": {
          "base_uri": "https://localhost:8080/"
        },
        "id": "FLHeiyhI4VCT",
        "outputId": "1f90fb4b-9ad7-4615-a937-447535804407"
      },
      "source": [
        "(trainX, testX, trainY, testY) = train_test_split(X, Y, random_state=3, test_size=0.2)\n",
        "print(trainX.shape)\n",
        "print(testX.shape)\n",
        "print(trainY.shape)\n",
        "print(testY.shape)"
      ],
      "execution_count": 38,
      "outputs": [
        {
          "output_type": "stream",
          "text": [
            "(455, 4)\n",
            "(114, 4)\n",
            "(455, 1)\n",
            "(114, 1)\n"
          ],
          "name": "stdout"
        }
      ]
    },
    {
      "cell_type": "code",
      "metadata": {
        "id": "l6vqEgqCgRJf"
      },
      "source": [
        "# define the dictionary of models our script can use, where the key\n",
        "# to the dictionary is the name of the model (supplied via command\n",
        "# line argument) and the value is the model itself\n",
        "models = {\n",
        "\t\"knn\": KNeighborsClassifier(n_neighbors=3),\n",
        "\t\"naive_bayes\": GaussianNB(),\n",
        "\t\"logit\": LogisticRegression(solver=\"lbfgs\", multi_class=\"auto\"),\n",
        "\t\"svm\": SVC(kernel=\"rbf\", gamma=\"auto\"),\n",
        "\t\"decision_tree\": DecisionTreeClassifier(),\n",
        "\t\"random_forest\": RandomForestClassifier(n_estimators=100),\n",
        "\t\"mlp\": MLPClassifier()\n",
        "}"
      ],
      "execution_count": 39,
      "outputs": []
    },
    {
      "cell_type": "code",
      "metadata": {
        "id": "UAmEPiyMgRJm",
        "colab": {
          "base_uri": "https://localhost:8080/"
        },
        "outputId": "72466e0b-f3db-4df9-8924-241f9ddf84e8"
      },
      "source": [
        "# train the model\n",
        "print(\"[INFO] using '{}' model\".format(\"knn\"))\n",
        "model = models[\"knn\"]\n",
        "model.fit(trainX, trainY)"
      ],
      "execution_count": 40,
      "outputs": [
        {
          "output_type": "stream",
          "text": [
            "[INFO] using 'knn' model\n"
          ],
          "name": "stdout"
        },
        {
          "output_type": "stream",
          "text": [
            "/usr/local/lib/python3.7/dist-packages/ipykernel_launcher.py:4: DataConversionWarning: A column-vector y was passed when a 1d array was expected. Please change the shape of y to (n_samples, ), for example using ravel().\n",
            "  after removing the cwd from sys.path.\n"
          ],
          "name": "stderr"
        },
        {
          "output_type": "execute_result",
          "data": {
            "text/plain": [
              "KNeighborsClassifier(algorithm='auto', leaf_size=30, metric='minkowski',\n",
              "                     metric_params=None, n_jobs=None, n_neighbors=3, p=2,\n",
              "                     weights='uniform')"
            ]
          },
          "metadata": {
            "tags": []
          },
          "execution_count": 40
        }
      ]
    },
    {
      "cell_type": "code",
      "metadata": {
        "id": "pMst7JNbgRJo",
        "colab": {
          "base_uri": "https://localhost:8080/"
        },
        "outputId": "55281e6a-c1d5-477a-aad6-3d770f138823"
      },
      "source": [
        "# make predictions on our data and show a classification report\n",
        "print(\"[INFO] evaluating...\")\n",
        "predictions = model.predict(testX)\n",
        "print(predictions)"
      ],
      "execution_count": 41,
      "outputs": [
        {
          "output_type": "stream",
          "text": [
            "[INFO] evaluating...\n",
            "['B' 'B' 'B' 'B' 'M' 'B' 'B' 'B' 'B' 'B' 'B' 'M' 'B' 'M' 'B' 'B' 'B' 'B'\n",
            " 'M' 'B' 'B' 'B' 'B' 'M' 'B' 'B' 'B' 'M' 'M' 'M' 'M' 'B' 'B' 'B' 'B' 'B'\n",
            " 'B' 'B' 'M' 'M' 'M' 'B' 'M' 'M' 'B' 'B' 'M' 'B' 'B' 'B' 'M' 'B' 'B' 'M'\n",
            " 'M' 'B' 'B' 'M' 'B' 'B' 'B' 'B' 'M' 'B' 'B' 'B' 'M' 'B' 'M' 'B' 'M' 'B'\n",
            " 'M' 'M' 'B' 'M' 'B' 'M' 'B' 'M' 'M' 'B' 'B' 'B' 'B' 'M' 'B' 'B' 'B' 'B'\n",
            " 'M' 'M' 'M' 'B' 'B' 'B' 'B' 'M' 'B' 'B' 'B' 'B' 'B' 'B' 'B' 'M' 'M' 'B'\n",
            " 'M' 'B' 'B' 'M' 'B' 'B']\n"
          ],
          "name": "stdout"
        }
      ]
    },
    {
      "cell_type": "code",
      "metadata": {
        "colab": {
          "base_uri": "https://localhost:8080/"
        },
        "id": "Puym9l3iF4LO",
        "outputId": "1d23dca0-cac9-4c10-e27c-a63d6fccefce"
      },
      "source": [
        "print(classification_report(testY, predictions,\n",
        "\ttarget_names=target_names))"
      ],
      "execution_count": 42,
      "outputs": [
        {
          "output_type": "stream",
          "text": [
            "              precision    recall  f1-score   support\n",
            "\n",
            "           M       0.89      0.92      0.91        74\n",
            "           B       0.84      0.80      0.82        40\n",
            "\n",
            "    accuracy                           0.88       114\n",
            "   macro avg       0.87      0.86      0.86       114\n",
            "weighted avg       0.88      0.88      0.88       114\n",
            "\n"
          ],
          "name": "stdout"
        }
      ]
    },
    {
      "cell_type": "code",
      "metadata": {
        "id": "KaVoaNHOgRJu",
        "colab": {
          "base_uri": "https://localhost:8080/"
        },
        "outputId": "a5e56b8e-973e-487e-dd65-46089ec9e19a"
      },
      "source": [
        "# train the model\n",
        "print(\"[INFO] using '{}' model\".format(\"naive_bayes\"))\n",
        "model = models[\"naive_bayes\"]\n",
        "model.fit(trainX, trainY)"
      ],
      "execution_count": 43,
      "outputs": [
        {
          "output_type": "stream",
          "text": [
            "[INFO] using 'naive_bayes' model\n"
          ],
          "name": "stdout"
        },
        {
          "output_type": "stream",
          "text": [
            "/usr/local/lib/python3.7/dist-packages/sklearn/naive_bayes.py:206: DataConversionWarning: A column-vector y was passed when a 1d array was expected. Please change the shape of y to (n_samples, ), for example using ravel().\n",
            "  y = column_or_1d(y, warn=True)\n"
          ],
          "name": "stderr"
        },
        {
          "output_type": "execute_result",
          "data": {
            "text/plain": [
              "GaussianNB(priors=None, var_smoothing=1e-09)"
            ]
          },
          "metadata": {
            "tags": []
          },
          "execution_count": 43
        }
      ]
    },
    {
      "cell_type": "code",
      "metadata": {
        "id": "mcB3GEAGgRJw",
        "colab": {
          "base_uri": "https://localhost:8080/"
        },
        "outputId": "e9f01296-a9d8-4820-c2a8-5952be5e4e43"
      },
      "source": [
        "# make predictions on our data and show a classification report\n",
        "print(\"[INFO] evaluating...\")\n",
        "predictions = model.predict(testX)\n",
        "print(classification_report(testY, predictions,\n",
        "\ttarget_names=target_names))"
      ],
      "execution_count": 44,
      "outputs": [
        {
          "output_type": "stream",
          "text": [
            "[INFO] evaluating...\n",
            "              precision    recall  f1-score   support\n",
            "\n",
            "           M       0.89      0.96      0.92        74\n",
            "           B       0.91      0.78      0.84        40\n",
            "\n",
            "    accuracy                           0.89       114\n",
            "   macro avg       0.90      0.87      0.88       114\n",
            "weighted avg       0.90      0.89      0.89       114\n",
            "\n"
          ],
          "name": "stdout"
        }
      ]
    },
    {
      "cell_type": "code",
      "metadata": {
        "id": "Ag3ekIj7gRJx",
        "colab": {
          "base_uri": "https://localhost:8080/"
        },
        "outputId": "b1c34295-23bd-4adc-b827-62e535ce070c"
      },
      "source": [
        "# train the model\n",
        "print(\"[INFO] using '{}' model\".format(\"logit\"))\n",
        "model = models[\"logit\"]\n",
        "model.fit(trainX, trainY)"
      ],
      "execution_count": 45,
      "outputs": [
        {
          "output_type": "stream",
          "text": [
            "[INFO] using 'logit' model\n"
          ],
          "name": "stdout"
        },
        {
          "output_type": "stream",
          "text": [
            "/usr/local/lib/python3.7/dist-packages/sklearn/utils/validation.py:760: DataConversionWarning: A column-vector y was passed when a 1d array was expected. Please change the shape of y to (n_samples, ), for example using ravel().\n",
            "  y = column_or_1d(y, warn=True)\n"
          ],
          "name": "stderr"
        },
        {
          "output_type": "execute_result",
          "data": {
            "text/plain": [
              "LogisticRegression(C=1.0, class_weight=None, dual=False, fit_intercept=True,\n",
              "                   intercept_scaling=1, l1_ratio=None, max_iter=100,\n",
              "                   multi_class='auto', n_jobs=None, penalty='l2',\n",
              "                   random_state=None, solver='lbfgs', tol=0.0001, verbose=0,\n",
              "                   warm_start=False)"
            ]
          },
          "metadata": {
            "tags": []
          },
          "execution_count": 45
        }
      ]
    },
    {
      "cell_type": "code",
      "metadata": {
        "id": "MZ_5q-Y6gRJz",
        "colab": {
          "base_uri": "https://localhost:8080/"
        },
        "outputId": "785c3533-4111-4588-dd81-67e9530c2183"
      },
      "source": [
        "# make predictions on our data and show a classification report\n",
        "print(\"[INFO] evaluating...\")\n",
        "predictions = model.predict(testX)\n",
        "print(classification_report(testY, predictions,\n",
        "\ttarget_names=target_names))"
      ],
      "execution_count": 46,
      "outputs": [
        {
          "output_type": "stream",
          "text": [
            "[INFO] evaluating...\n",
            "              precision    recall  f1-score   support\n",
            "\n",
            "           M       0.93      0.93      0.93        74\n",
            "           B       0.88      0.88      0.88        40\n",
            "\n",
            "    accuracy                           0.91       114\n",
            "   macro avg       0.90      0.90      0.90       114\n",
            "weighted avg       0.91      0.91      0.91       114\n",
            "\n"
          ],
          "name": "stdout"
        }
      ]
    },
    {
      "cell_type": "code",
      "metadata": {
        "id": "YpMbga3dgRJz",
        "colab": {
          "base_uri": "https://localhost:8080/"
        },
        "outputId": "b59217c2-a168-45e5-a72d-688f9ea596a2"
      },
      "source": [
        "# train the model\n",
        "print(\"[INFO] using '{}' model\".format(\"svm\"))\n",
        "model = models[\"svm\"]\n",
        "model.fit(trainX, trainY)"
      ],
      "execution_count": 47,
      "outputs": [
        {
          "output_type": "stream",
          "text": [
            "[INFO] using 'svm' model\n"
          ],
          "name": "stdout"
        },
        {
          "output_type": "stream",
          "text": [
            "/usr/local/lib/python3.7/dist-packages/sklearn/utils/validation.py:760: DataConversionWarning: A column-vector y was passed when a 1d array was expected. Please change the shape of y to (n_samples, ), for example using ravel().\n",
            "  y = column_or_1d(y, warn=True)\n"
          ],
          "name": "stderr"
        },
        {
          "output_type": "execute_result",
          "data": {
            "text/plain": [
              "SVC(C=1.0, break_ties=False, cache_size=200, class_weight=None, coef0=0.0,\n",
              "    decision_function_shape='ovr', degree=3, gamma='auto', kernel='rbf',\n",
              "    max_iter=-1, probability=False, random_state=None, shrinking=True,\n",
              "    tol=0.001, verbose=False)"
            ]
          },
          "metadata": {
            "tags": []
          },
          "execution_count": 47
        }
      ]
    },
    {
      "cell_type": "code",
      "metadata": {
        "id": "Ouv_k7vsgRJ0",
        "colab": {
          "base_uri": "https://localhost:8080/"
        },
        "outputId": "be6d083b-fc9a-4728-9ed0-710c195c2e7b"
      },
      "source": [
        "# make predictions on our data and show a classification report\n",
        "print(\"[INFO] evaluating...\")\n",
        "predictions = model.predict(testX)\n",
        "print(classification_report(testY, predictions,\n",
        "\ttarget_names=target_names))"
      ],
      "execution_count": 48,
      "outputs": [
        {
          "output_type": "stream",
          "text": [
            "[INFO] evaluating...\n",
            "              precision    recall  f1-score   support\n",
            "\n",
            "           M       0.66      1.00      0.80        74\n",
            "           B       1.00      0.05      0.10        40\n",
            "\n",
            "    accuracy                           0.67       114\n",
            "   macro avg       0.83      0.53      0.45       114\n",
            "weighted avg       0.78      0.67      0.55       114\n",
            "\n"
          ],
          "name": "stdout"
        }
      ]
    },
    {
      "cell_type": "code",
      "metadata": {
        "id": "hl-fW3p9gRJ2",
        "colab": {
          "base_uri": "https://localhost:8080/"
        },
        "outputId": "bd0037c6-6133-4683-ffb8-bf85353aa2a4"
      },
      "source": [
        "# train the model\n",
        "print(\"[INFO] using '{}' model\".format(\"decision_tree\"))\n",
        "model = models[\"decision_tree\"]\n",
        "model.fit(trainX, trainY)"
      ],
      "execution_count": 49,
      "outputs": [
        {
          "output_type": "stream",
          "text": [
            "[INFO] using 'decision_tree' model\n"
          ],
          "name": "stdout"
        },
        {
          "output_type": "execute_result",
          "data": {
            "text/plain": [
              "DecisionTreeClassifier(ccp_alpha=0.0, class_weight=None, criterion='gini',\n",
              "                       max_depth=None, max_features=None, max_leaf_nodes=None,\n",
              "                       min_impurity_decrease=0.0, min_impurity_split=None,\n",
              "                       min_samples_leaf=1, min_samples_split=2,\n",
              "                       min_weight_fraction_leaf=0.0, presort='deprecated',\n",
              "                       random_state=None, splitter='best')"
            ]
          },
          "metadata": {
            "tags": []
          },
          "execution_count": 49
        }
      ]
    },
    {
      "cell_type": "code",
      "metadata": {
        "id": "SM2l7Dl4gRJ4",
        "colab": {
          "base_uri": "https://localhost:8080/"
        },
        "outputId": "a1178eba-d9e0-4687-f14c-42c8245d3f1a"
      },
      "source": [
        "# make predictions on our data and show a classification report\n",
        "print(\"[INFO] evaluating...\")\n",
        "predictions = model.predict(testX)\n",
        "print(classification_report(testY, predictions,\n",
        "\ttarget_names=target_names))"
      ],
      "execution_count": 50,
      "outputs": [
        {
          "output_type": "stream",
          "text": [
            "[INFO] evaluating...\n",
            "              precision    recall  f1-score   support\n",
            "\n",
            "           M       0.92      0.91      0.91        74\n",
            "           B       0.83      0.85      0.84        40\n",
            "\n",
            "    accuracy                           0.89       114\n",
            "   macro avg       0.87      0.88      0.88       114\n",
            "weighted avg       0.89      0.89      0.89       114\n",
            "\n"
          ],
          "name": "stdout"
        }
      ]
    },
    {
      "cell_type": "code",
      "metadata": {
        "id": "l1Qtpf0UgRJ5",
        "colab": {
          "base_uri": "https://localhost:8080/"
        },
        "outputId": "41df09fc-e345-497f-a3c3-743dd3273335"
      },
      "source": [
        "# train the model\n",
        "print(\"[INFO] using '{}' model\".format(\"random_forest\"))\n",
        "model = models[\"random_forest\"]\n",
        "model.fit(trainX, trainY)"
      ],
      "execution_count": 51,
      "outputs": [
        {
          "output_type": "stream",
          "text": [
            "[INFO] using 'random_forest' model\n"
          ],
          "name": "stdout"
        },
        {
          "output_type": "stream",
          "text": [
            "/usr/local/lib/python3.7/dist-packages/ipykernel_launcher.py:4: DataConversionWarning: A column-vector y was passed when a 1d array was expected. Please change the shape of y to (n_samples,), for example using ravel().\n",
            "  after removing the cwd from sys.path.\n"
          ],
          "name": "stderr"
        },
        {
          "output_type": "execute_result",
          "data": {
            "text/plain": [
              "RandomForestClassifier(bootstrap=True, ccp_alpha=0.0, class_weight=None,\n",
              "                       criterion='gini', max_depth=None, max_features='auto',\n",
              "                       max_leaf_nodes=None, max_samples=None,\n",
              "                       min_impurity_decrease=0.0, min_impurity_split=None,\n",
              "                       min_samples_leaf=1, min_samples_split=2,\n",
              "                       min_weight_fraction_leaf=0.0, n_estimators=100,\n",
              "                       n_jobs=None, oob_score=False, random_state=None,\n",
              "                       verbose=0, warm_start=False)"
            ]
          },
          "metadata": {
            "tags": []
          },
          "execution_count": 51
        }
      ]
    },
    {
      "cell_type": "code",
      "metadata": {
        "id": "fohWRtxcgRKA",
        "colab": {
          "base_uri": "https://localhost:8080/"
        },
        "outputId": "f1752ce6-8413-48b8-b441-9126981d238c"
      },
      "source": [
        "# make predictions on our data and show a classification report\n",
        "print(\"[INFO] evaluating...\")\n",
        "predictions = model.predict(testX)\n",
        "print(classification_report(testY, predictions,\n",
        "\ttarget_names=target_names))"
      ],
      "execution_count": 52,
      "outputs": [
        {
          "output_type": "stream",
          "text": [
            "[INFO] evaluating...\n",
            "              precision    recall  f1-score   support\n",
            "\n",
            "           M       0.91      0.95      0.93        74\n",
            "           B       0.89      0.82      0.86        40\n",
            "\n",
            "    accuracy                           0.90       114\n",
            "   macro avg       0.90      0.89      0.89       114\n",
            "weighted avg       0.90      0.90      0.90       114\n",
            "\n"
          ],
          "name": "stdout"
        }
      ]
    },
    {
      "cell_type": "code",
      "metadata": {
        "id": "QNdRh3_8gRKB",
        "colab": {
          "base_uri": "https://localhost:8080/"
        },
        "outputId": "9e6463d3-8600-4ea5-927b-9da67a7afb4a"
      },
      "source": [
        "# train the model\n",
        "print(\"[INFO] using '{}' model\".format(\"mlp\"))\n",
        "model = models[\"mlp\"]\n",
        "model.fit(trainX, trainY)"
      ],
      "execution_count": 53,
      "outputs": [
        {
          "output_type": "stream",
          "text": [
            "[INFO] using 'mlp' model\n"
          ],
          "name": "stdout"
        },
        {
          "output_type": "stream",
          "text": [
            "/usr/local/lib/python3.7/dist-packages/sklearn/neural_network/_multilayer_perceptron.py:934: DataConversionWarning: A column-vector y was passed when a 1d array was expected. Please change the shape of y to (n_samples, ), for example using ravel().\n",
            "  y = column_or_1d(y, warn=True)\n"
          ],
          "name": "stderr"
        },
        {
          "output_type": "execute_result",
          "data": {
            "text/plain": [
              "MLPClassifier(activation='relu', alpha=0.0001, batch_size='auto', beta_1=0.9,\n",
              "              beta_2=0.999, early_stopping=False, epsilon=1e-08,\n",
              "              hidden_layer_sizes=(100,), learning_rate='constant',\n",
              "              learning_rate_init=0.001, max_fun=15000, max_iter=200,\n",
              "              momentum=0.9, n_iter_no_change=10, nesterovs_momentum=True,\n",
              "              power_t=0.5, random_state=None, shuffle=True, solver='adam',\n",
              "              tol=0.0001, validation_fraction=0.1, verbose=False,\n",
              "              warm_start=False)"
            ]
          },
          "metadata": {
            "tags": []
          },
          "execution_count": 53
        }
      ]
    },
    {
      "cell_type": "code",
      "metadata": {
        "id": "dtSKouEIgRKC",
        "colab": {
          "base_uri": "https://localhost:8080/"
        },
        "outputId": "87bf71fe-d635-4938-af97-bd79a4d22be9"
      },
      "source": [
        "# make predictions on our data and show a classification report\n",
        "print(\"[INFO] evaluating...\")\n",
        "predictions = model.predict(testX)\n",
        "print(classification_report(testY, predictions,\n",
        "\ttarget_names=target_names))"
      ],
      "execution_count": 54,
      "outputs": [
        {
          "output_type": "stream",
          "text": [
            "[INFO] evaluating...\n",
            "              precision    recall  f1-score   support\n",
            "\n",
            "           M       0.88      0.95      0.91        74\n",
            "           B       0.88      0.75      0.81        40\n",
            "\n",
            "    accuracy                           0.88       114\n",
            "   macro avg       0.88      0.85      0.86       114\n",
            "weighted avg       0.88      0.88      0.87       114\n",
            "\n"
          ],
          "name": "stdout"
        }
      ]
    },
    {
      "cell_type": "markdown",
      "metadata": {
        "id": "ExhmHl7Q5t7_"
      },
      "source": [
        "# **Artificial Neural Network**"
      ]
    },
    {
      "cell_type": "code",
      "metadata": {
        "id": "Eu7aptJJgRKE"
      },
      "source": [
        "# import the necessary packages\n",
        "from keras.models import Sequential\n",
        "# from keras.layers.convolutional import Conv2D\n",
        "# from keras.layers.convolutional import MaxPooling2D\n",
        "from keras.layers.core import Activation\n",
        "# from keras.layers.core import Flatten\n",
        "from keras.layers.core import Dense\n",
        "from keras.optimizers import Adam\n",
        "from sklearn.preprocessing import LabelBinarizer\n",
        "# from sklearn.model_selection import train_test_split\n",
        "# from sklearn.metrics import classification_report\n",
        "# from PIL import Image\n",
        "# from imutils import paths\n",
        "# import numpy as np\n",
        "# import os"
      ],
      "execution_count": 62,
      "outputs": []
    },
    {
      "cell_type": "code",
      "metadata": {
        "id": "SH24XaG3AnPu"
      },
      "source": [
        "Y"
      ],
      "execution_count": null,
      "outputs": []
    },
    {
      "cell_type": "code",
      "metadata": {
        "id": "897YXSjv55ZC"
      },
      "source": [
        "# encode the labels, converting them from strings to integers\n",
        "lb = LabelBinarizer()\n",
        "labels = lb.fit_transform(Y)\n",
        "print(labels)"
      ],
      "execution_count": null,
      "outputs": []
    },
    {
      "cell_type": "code",
      "metadata": {
        "colab": {
          "base_uri": "https://localhost:8080/"
        },
        "id": "_pcXvXBq59PY",
        "outputId": "71029728-7e2c-4ce1-cef7-ba5e3ffebb25"
      },
      "source": [
        "(trainX, testX, trainY, testY) = train_test_split(X,\tnp.array(labels), test_size=0.2)\n",
        "print(trainX.shape)\n",
        "print(testX.shape)\n",
        "print(trainY.shape)\n",
        "print(testY.shape)"
      ],
      "execution_count": 65,
      "outputs": [
        {
          "output_type": "stream",
          "text": [
            "(455, 4)\n",
            "(114, 4)\n",
            "(455, 1)\n",
            "(114, 1)\n"
          ],
          "name": "stdout"
        }
      ]
    },
    {
      "cell_type": "code",
      "metadata": {
        "id": "73GGlwI76EkY"
      },
      "source": [
        "#model ANN\n",
        "\n",
        "model = Sequential(\n",
        "    [\n",
        "        Dense(32, activation=\"relu\", input_shape=(4,)), #hidden layer 1\n",
        "        Dense(16, activation=\"relu\"), #hidden layer 2\n",
        "        # Dense(16, activation=\"relu\"),\n",
        "        # Dense(8, activation=\"relu\"),\n",
        "        Dense(1, activation = \"sigmoid\"),\n",
        "    ]\n",
        ")"
      ],
      "execution_count": 73,
      "outputs": []
    },
    {
      "cell_type": "code",
      "metadata": {
        "colab": {
          "base_uri": "https://localhost:8080/"
        },
        "id": "oWptPSzZ6V-_",
        "outputId": "2b670351-bf10-4208-c50f-fd0f0e9e3fbe"
      },
      "source": [
        "model.summary()"
      ],
      "execution_count": 74,
      "outputs": [
        {
          "output_type": "stream",
          "text": [
            "Model: \"sequential_3\"\n",
            "_________________________________________________________________\n",
            "Layer (type)                 Output Shape              Param #   \n",
            "=================================================================\n",
            "dense_9 (Dense)              (None, 32)                160       \n",
            "_________________________________________________________________\n",
            "dense_10 (Dense)             (None, 16)                528       \n",
            "_________________________________________________________________\n",
            "dense_11 (Dense)             (None, 1)                 17        \n",
            "=================================================================\n",
            "Total params: 705\n",
            "Trainable params: 705\n",
            "Non-trainable params: 0\n",
            "_________________________________________________________________\n"
          ],
          "name": "stdout"
        }
      ]
    },
    {
      "cell_type": "code",
      "metadata": {
        "colab": {
          "base_uri": "https://localhost:8080/"
        },
        "id": "-IoP9cED60mA",
        "outputId": "ca7ef2de-2446-432a-a6b9-efa66cd5ab9b"
      },
      "source": [
        "# train the model using the Adam optimizer\n",
        "print(\"[INFO] training network...\")\n",
        "opt = Adam(lr=1e-3, decay=1e-3 / 50)\n",
        "model.compile(loss=\"binary_crossentropy\", optimizer=opt, #2 kelas --> binary_crossentropy\n",
        "\tmetrics=[\"accuracy\"])\n",
        "H = model.fit(trainX, trainY, validation_data=(testX, testY), epochs=20, batch_size=20)"
      ],
      "execution_count": 75,
      "outputs": [
        {
          "output_type": "stream",
          "text": [
            "[INFO] training network...\n",
            "Epoch 1/20\n",
            "23/23 [==============================] - 1s 10ms/step - loss: 1.3118 - accuracy: 0.7777 - val_loss: 0.3975 - val_accuracy: 0.8596\n",
            "Epoch 2/20\n",
            "23/23 [==============================] - 0s 3ms/step - loss: 0.4194 - accuracy: 0.8653 - val_loss: 0.6233 - val_accuracy: 0.7193\n",
            "Epoch 3/20\n",
            "23/23 [==============================] - 0s 3ms/step - loss: 0.4945 - accuracy: 0.7842 - val_loss: 0.5135 - val_accuracy: 0.8421\n",
            "Epoch 4/20\n",
            "23/23 [==============================] - 0s 3ms/step - loss: 0.5242 - accuracy: 0.8189 - val_loss: 0.3426 - val_accuracy: 0.8684\n",
            "Epoch 5/20\n",
            "23/23 [==============================] - 0s 4ms/step - loss: 0.3834 - accuracy: 0.8344 - val_loss: 0.5953 - val_accuracy: 0.8246\n",
            "Epoch 6/20\n",
            "23/23 [==============================] - 0s 3ms/step - loss: 0.5810 - accuracy: 0.7879 - val_loss: 0.4178 - val_accuracy: 0.8509\n",
            "Epoch 7/20\n",
            "23/23 [==============================] - 0s 3ms/step - loss: 0.4798 - accuracy: 0.8150 - val_loss: 0.4155 - val_accuracy: 0.7807\n",
            "Epoch 8/20\n",
            "23/23 [==============================] - 0s 3ms/step - loss: 0.3820 - accuracy: 0.8616 - val_loss: 0.4957 - val_accuracy: 0.7456\n",
            "Epoch 9/20\n",
            "23/23 [==============================] - 0s 3ms/step - loss: 0.5148 - accuracy: 0.7976 - val_loss: 0.3244 - val_accuracy: 0.8772\n",
            "Epoch 10/20\n",
            "23/23 [==============================] - 0s 3ms/step - loss: 0.4990 - accuracy: 0.8076 - val_loss: 0.3148 - val_accuracy: 0.8860\n",
            "Epoch 11/20\n",
            "23/23 [==============================] - 0s 3ms/step - loss: 0.3899 - accuracy: 0.8380 - val_loss: 0.4138 - val_accuracy: 0.8509\n",
            "Epoch 12/20\n",
            "23/23 [==============================] - 0s 3ms/step - loss: 0.3838 - accuracy: 0.8553 - val_loss: 0.3241 - val_accuracy: 0.8860\n",
            "Epoch 13/20\n",
            "23/23 [==============================] - 0s 3ms/step - loss: 0.3304 - accuracy: 0.8621 - val_loss: 0.3229 - val_accuracy: 0.8772\n",
            "Epoch 14/20\n",
            "23/23 [==============================] - 0s 3ms/step - loss: 0.3110 - accuracy: 0.8633 - val_loss: 0.3426 - val_accuracy: 0.8596\n",
            "Epoch 15/20\n",
            "23/23 [==============================] - 0s 3ms/step - loss: 0.4849 - accuracy: 0.8155 - val_loss: 0.3104 - val_accuracy: 0.8947\n",
            "Epoch 16/20\n",
            "23/23 [==============================] - 0s 3ms/step - loss: 0.5147 - accuracy: 0.7648 - val_loss: 0.3000 - val_accuracy: 0.8772\n",
            "Epoch 17/20\n",
            "23/23 [==============================] - 0s 3ms/step - loss: 0.4041 - accuracy: 0.8236 - val_loss: 0.3485 - val_accuracy: 0.8509\n",
            "Epoch 18/20\n",
            "23/23 [==============================] - 0s 3ms/step - loss: 0.4333 - accuracy: 0.8316 - val_loss: 0.2988 - val_accuracy: 0.9035\n",
            "Epoch 19/20\n",
            "23/23 [==============================] - 0s 3ms/step - loss: 0.3440 - accuracy: 0.8430 - val_loss: 0.2935 - val_accuracy: 0.8860\n",
            "Epoch 20/20\n",
            "23/23 [==============================] - 0s 3ms/step - loss: 0.3928 - accuracy: 0.8432 - val_loss: 0.3607 - val_accuracy: 0.8509\n"
          ],
          "name": "stdout"
        }
      ]
    },
    {
      "cell_type": "code",
      "metadata": {
        "colab": {
          "base_uri": "https://localhost:8080/",
          "height": 590
        },
        "id": "-SOALOs_6-IY",
        "outputId": "17591432-ba25-482a-b4b5-0bcd7a02da80"
      },
      "source": [
        "import matplotlib.pyplot as plt\n",
        "\n",
        "print(H.history.keys())\n",
        "# summarize history for accuracy\n",
        "plt.plot(H.history['accuracy'])\n",
        "plt.plot(H.history['val_accuracy'])\n",
        "plt.title('model accuracy')\n",
        "plt.ylabel('accuracy')\n",
        "plt.xlabel('epoch')\n",
        "plt.legend(['train', 'test'], loc='upper left')\n",
        "plt.show()\n",
        "# summarize history for loss\n",
        "plt.plot(H.history['loss'])\n",
        "plt.plot(H.history['val_loss'])\n",
        "plt.title('model loss')\n",
        "plt.ylabel('loss')\n",
        "plt.xlabel('epoch')\n",
        "plt.legend(['train', 'test'], loc='upper left')\n",
        "plt.show()"
      ],
      "execution_count": 76,
      "outputs": [
        {
          "output_type": "stream",
          "text": [
            "dict_keys(['loss', 'accuracy', 'val_loss', 'val_accuracy'])\n"
          ],
          "name": "stdout"
        },
        {
          "output_type": "display_data",
          "data": {
            "image/png": "[encoded data removed]",
            "text/plain": [
              "<Figure size 432x288 with 1 Axes>"
            ]
          },
          "metadata": {
            "tags": [],
            "needs_background": "light"
          }
        },
        {
          "output_type": "display_data",
          "data": {
            "image/png": "[encoded data removed]",
            "text/plain": [
              "<Figure size 432x288 with 1 Axes>"
            ]
          },
          "metadata": {
            "tags": [],
            "needs_background": "light"
          }
        }
      ]
    },
    {
      "cell_type": "code",
      "metadata": {
        "id": "MyjLvi1l7CsX"
      },
      "source": [
        ""
      ],
      "execution_count": null,
      "outputs": []
    }
  ]
}